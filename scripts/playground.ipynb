{
 "cells": [
  {
   "cell_type": "code",
   "execution_count": 8,
   "metadata": {},
   "outputs": [
    {
     "name": "stdout",
     "output_type": "stream",
     "text": [
      "True\n",
      "True\n"
     ]
    }
   ],
   "source": [
    "import pandas as pd\n",
    "\n",
    "df = pd.read_csv('../data/wiki_text_cleaned_v1.csv')\n",
    "\n",
    "# check if the id column is unique\n",
    "print(df['id'].is_unique)\n",
    "\n",
    "# check if the id column is a primary key\n",
    "print(df['id'].is_monotonic_increasing)"
   ]
  },
  {
   "cell_type": "code",
   "execution_count": 9,
   "metadata": {},
   "outputs": [
    {
     "name": "stdout",
     "output_type": "stream",
     "text": [
      "False\n",
      "Empty DataFrame\n",
      "Columns: [id, page_name, section_name, subsection_name, subsubsection_name, text, section_hierarchy, text_cleaned, word_count, is_bad]\n",
      "Index: []\n"
     ]
    }
   ],
   "source": [
    "# see if there are missing values in the page_name column\n",
    "print(df['page_name'].isnull().values.any())\n",
    "\n",
    "# print those rows where the page_name column is missing\n",
    "print(df[df['page_name'].isnull()])"
   ]
  },
  {
   "cell_type": "code",
   "execution_count": null,
   "metadata": {},
   "outputs": [],
   "source": []
  }
 ],
 "metadata": {
  "kernelspec": {
   "display_name": ".venv",
   "language": "python",
   "name": "python3"
  },
  "language_info": {
   "codemirror_mode": {
    "name": "ipython",
    "version": 3
   },
   "file_extension": ".py",
   "mimetype": "text/x-python",
   "name": "python",
   "nbconvert_exporter": "python",
   "pygments_lexer": "ipython3",
   "version": "3.10.12"
  }
 },
 "nbformat": 4,
 "nbformat_minor": 2
}
