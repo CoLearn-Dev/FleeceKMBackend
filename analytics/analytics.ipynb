{
 "cells": [
  {
   "cell_type": "code",
   "execution_count": 2,
   "metadata": {},
   "outputs": [
    {
     "name": "stdout",
     "output_type": "stream",
     "text": [
      "2024-05-06 21:40:42,335 INFO sqlalchemy.engine.Engine SELECT DATABASE()\n",
      "2024-05-06 21:40:42,336 INFO sqlalchemy.engine.Engine [raw sql] ()\n",
      "2024-05-06 21:40:42,338 INFO sqlalchemy.engine.Engine SELECT @@sql_mode\n",
      "2024-05-06 21:40:42,339 INFO sqlalchemy.engine.Engine [raw sql] ()\n",
      "2024-05-06 21:40:42,340 INFO sqlalchemy.engine.Engine SELECT @@lower_case_table_names\n",
      "2024-05-06 21:40:42,341 INFO sqlalchemy.engine.Engine [raw sql] ()\n",
      "2024-05-06 21:40:42,343 INFO sqlalchemy.engine.Engine BEGIN (implicit)\n",
      "2024-05-06 21:40:42,353 INFO sqlalchemy.engine.Engine SELECT answer.id, answer.question_id, answer.author_id, answer.setting, answer.timestamp, answer.text, rating.id AS id_1, rating.text AS text_1, rating.value, rating.answer_id, rating.author_id AS author_id_1, rating.timestamp AS timestamp_1 \n",
      "FROM answer INNER JOIN rating ON answer.id = rating.answer_id INNER JOIN author ON author.id = answer.author_id \n",
      "WHERE author.model = %s\n",
      "2024-05-06 21:40:42,354 INFO sqlalchemy.engine.Engine [generated in 0.00098s] ('meta-llama/Meta-Llama-3-70B-Instruct',)\n"
     ]
    }
   ],
   "source": [
    "import asyncio\n",
    "from sqlalchemy.ext.asyncio import create_async_engine, AsyncSession\n",
    "from sqlalchemy.orm import sessionmaker\n",
    "from sqlalchemy.future import select\n",
    "from statsmodels.api import OLS\n",
    "import pandas as pd\n",
    "from sqlalchemy import and_\n",
    "\n",
    "from fleecekmbackend.db.models import Author, Answer, Rating\n",
    "from fleecekmbackend.core.config import DATABASE_URL\n",
    "\n",
    "# Setting up the async engine and session\n",
    "engine = create_async_engine(DATABASE_URL)\n",
    "async_session = sessionmaker(engine, expire_on_commit=False, class_=AsyncSession)\n",
    "\n",
    "\n",
    "async def fetch_data():\n",
    "    async with async_session() as session:\n",
    "        # Select answers authored by 'meta-llama/Meta-Llama-3-70B-Instruct' with their ratings\n",
    "        results = await session.execute(\n",
    "            select(Answer, Rating)\n",
    "            .join(Rating, Answer.id == Rating.answer_id)\n",
    "            .join(Author, Author.id == Answer.author_id)\n",
    "            .where(Author.model == \"meta-llama/Meta-Llama-3-70B-Instruct\")\n",
    "        )\n",
    "        return results.all()\n",
    "    \n",
    "data = await fetch_data()\n",
    "data"
   ]
  },
  {
   "cell_type": "code",
   "execution_count": null,
   "metadata": {},
   "outputs": [],
   "source": []
  }
 ],
 "metadata": {
  "kernelspec": {
   "display_name": ".venv",
   "language": "python",
   "name": "python3"
  },
  "language_info": {
   "codemirror_mode": {
    "name": "ipython",
    "version": 3
   },
   "file_extension": ".py",
   "mimetype": "text/x-python",
   "name": "python",
   "nbconvert_exporter": "python",
   "pygments_lexer": "ipython3",
   "version": "3.10.12"
  }
 },
 "nbformat": 4,
 "nbformat_minor": 2
}
